{
 "cells": [
  {
   "cell_type": "markdown",
   "metadata": {},
   "source": [
    "This exercise will require you to pull some data from the Qunadl API. Qaundl is currently the most widely used aggregator of financial market data."
   ]
  },
  {
   "cell_type": "markdown",
   "metadata": {},
   "source": [
    "As a first step, you will need to register a free account on the http://www.quandl.com website."
   ]
  },
  {
   "cell_type": "markdown",
   "metadata": {},
   "source": [
    "After you register, you will be provided with a unique API key, that you should store:"
   ]
  },
  {
   "cell_type": "code",
   "execution_count": 2,
   "metadata": {},
   "outputs": [],
   "source": [
    "# Store the API key as a string - according to PEP8, constants are always named in all upper case\n",
    "API_KEY = ''"
   ]
  },
  {
   "cell_type": "markdown",
   "metadata": {},
   "source": [
    "Qaundl has a large number of data sources, but, unfortunately, most of them require a Premium subscription. Still, there are also a good number of free datasets."
   ]
  },
  {
   "cell_type": "markdown",
   "metadata": {},
   "source": [
    "For this mini project, we will focus on equities data from the Frankfurt Stock Exhange (FSE), which is available for free. We'll try and analyze the stock prices of a company called Carl Zeiss Meditec, which manufactures tools for eye examinations, as well as medical lasers for laser eye surgery: https://www.zeiss.com/meditec/int/home.html. The company is listed under the stock ticker AFX_X."
   ]
  },
  {
   "cell_type": "markdown",
   "metadata": {},
   "source": [
    "You can find the detailed Quandl API instructions here: https://docs.quandl.com/docs/time-series"
   ]
  },
  {
   "cell_type": "markdown",
   "metadata": {},
   "source": [
    "While there is a dedicated Python package for connecting to the Quandl API, we would prefer that you use the *requests* package, which can be easily downloaded using *pip* or *conda*. You can find the documentation for the package here: http://docs.python-requests.org/en/master/ "
   ]
  },
  {
   "cell_type": "markdown",
   "metadata": {},
   "source": [
    "Finally, apart from the *requests* package, you are encouraged to not use any third party Python packages, such as *pandas*, and instead focus on what's available in the Python Standard Library (the *collections* module might come in handy: https://pymotw.com/3/collections/ ).\n",
    "Also, since you won't have access to DataFrames, you are encouraged to us Python's native data structures - preferably dictionaries, though some questions can also be answered using lists.\n",
    "You can read more on these data structures here: https://docs.python.org/3/tutorial/datastructures.html"
   ]
  },
  {
   "cell_type": "markdown",
   "metadata": {},
   "source": [
    "Keep in mind that the JSON responses you will be getting from the API map almost one-to-one to Python's dictionaries. Unfortunately, they can be very nested, so make sure you read up on indexing dictionaries in the documentation provided above."
   ]
  },
  {
   "cell_type": "code",
   "execution_count": 3,
   "metadata": {},
   "outputs": [],
   "source": [
    "# First, import the relevant modules\n",
    "import requests\n",
    "from collections import defaultdict\n"
   ]
  },
  {
   "cell_type": "code",
   "execution_count": 4,
   "metadata": {},
   "outputs": [],
   "source": [
    "# Now, call the Quandl API and pull out a small sample of the data (only one day) to get a glimpse\n",
    "# into the JSON structure that will be returned\n",
    "response = requests.get('https://www.quandl.com/api/v3/datasets/FSE/AFX_X?start_date=2020-12-01&end_date=2020-12-01&api_key=' + API_KEY)\n"
   ]
  },
  {
   "cell_type": "code",
   "execution_count": 5,
   "metadata": {},
   "outputs": [
    {
     "name": "stdout",
     "output_type": "stream",
     "text": [
      "dict_keys(['id', 'dataset_code', 'database_code', 'name', 'description', 'refreshed_at', 'newest_available_date', 'oldest_available_date', 'column_names', 'frequency', 'type', 'premium', 'limit', 'transform', 'column_index', 'start_date', 'end_date', 'data', 'collapse', 'order', 'database_id'])\n",
      "21\n"
     ]
    }
   ],
   "source": [
    "# Inspect the JSON structure of the object you created, and take note of how nested it is,\n",
    "# as well as the overall structure\n",
    "json_data = response.json()\n",
    "\n",
    "print(json_data['dataset'].keys())\n",
    "print(len(json_data['dataset'].keys()))\n"
   ]
  },
  {
   "cell_type": "markdown",
   "metadata": {},
   "source": [
    "#### There are 21 keys in the 'dataset' "
   ]
  },
  {
   "cell_type": "code",
   "execution_count": 6,
   "metadata": {},
   "outputs": [
    {
     "name": "stdout",
     "output_type": "stream",
     "text": [
      "id:<class 'int'>\n",
      "------------------\n",
      "dataset_code:<class 'str'>\n",
      "------------------\n",
      "database_code:<class 'str'>\n",
      "------------------\n",
      "name:<class 'str'>\n",
      "------------------\n",
      "description:<class 'str'>\n",
      "------------------\n",
      "refreshed_at:<class 'str'>\n",
      "------------------\n",
      "newest_available_date:<class 'str'>\n",
      "------------------\n",
      "oldest_available_date:<class 'str'>\n",
      "------------------\n",
      "column_names:<class 'list'>\n",
      "------------------\n",
      "frequency:<class 'str'>\n",
      "------------------\n",
      "type:<class 'str'>\n",
      "------------------\n",
      "premium:<class 'bool'>\n",
      "------------------\n",
      "limit:<class 'NoneType'>\n",
      "------------------\n",
      "transform:<class 'NoneType'>\n",
      "------------------\n",
      "column_index:<class 'NoneType'>\n",
      "------------------\n",
      "start_date:<class 'str'>\n",
      "------------------\n",
      "end_date:<class 'str'>\n",
      "------------------\n",
      "data:<class 'list'>\n",
      "------------------\n",
      "collapse:<class 'NoneType'>\n",
      "------------------\n",
      "order:<class 'NoneType'>\n",
      "------------------\n",
      "database_id:<class 'int'>\n",
      "------------------\n"
     ]
    }
   ],
   "source": [
    "#column_names and data are lists\n",
    "for key, value in json_data['dataset'].items():\n",
    "    print(str(key) + ':' + str(type(value))) \n",
    "    print('------------------')"
   ]
  },
  {
   "cell_type": "markdown",
   "metadata": {},
   "source": [
    "#### column_names and data are of type list"
   ]
  },
  {
   "cell_type": "code",
   "execution_count": 7,
   "metadata": {},
   "outputs": [
    {
     "name": "stdout",
     "output_type": "stream",
     "text": [
      "['Date', 'Open', 'High', 'Low', 'Close', 'Change', 'Traded Volume', 'Turnover', 'Last Price of the Day', 'Daily Traded Units', 'Daily Turnover']\n",
      "[['2020-12-01', 112.2, 112.2, 111.5, 112.0, None, 51.0, 5703.0, None, None, None]]\n"
     ]
    }
   ],
   "source": [
    "print(json_data['dataset']['column_names'])\n",
    "print(json_data['dataset']['data'])"
   ]
  },
  {
   "cell_type": "code",
   "execution_count": 8,
   "metadata": {},
   "outputs": [],
   "source": [
    "#Code Task 1 - Get Data for 2017\n",
    "response = requests.get('https://www.quandl.com/api/v3/datasets/FSE/AFX_X?start_date=2017-01-01&end_date=2017-12-31&api_key=' + API_KEY)"
   ]
  },
  {
   "cell_type": "code",
   "execution_count": 9,
   "metadata": {},
   "outputs": [],
   "source": [
    "json_data = response.json()"
   ]
  },
  {
   "cell_type": "code",
   "execution_count": 10,
   "metadata": {},
   "outputs": [],
   "source": [
    "#Code Task 2\n",
    "data = defaultdict(list)\n",
    "for row in json_data['dataset']['data']:\n",
    "    for i, header in enumerate(json_data['dataset']['column_names']):\n",
    "        data[header].append(row[i])"
   ]
  },
  {
   "cell_type": "code",
   "execution_count": 11,
   "metadata": {},
   "outputs": [
    {
     "name": "stdout",
     "output_type": "stream",
     "text": [
      "Lowest Opening Price in 2017 was 34.0\n",
      "Highest Opening Price in 2017 was 53.11\n"
     ]
    }
   ],
   "source": [
    "#Code Task 3\n",
    "\n",
    "#Remove None from Open\n",
    "data_open = [i for i in data['Open'] if i is not None]\n",
    "\n",
    "print('Lowest Opening Price in 2017 was ' + str(sorted(data_open, reverse = False)[0]))\n",
    "print('Highest Opening Price in 2017 was ' + str(sorted(data_open, reverse = True)[0]))"
   ]
  },
  {
   "cell_type": "code",
   "execution_count": 12,
   "metadata": {},
   "outputs": [
    {
     "data": {
      "text/plain": [
       "dict_keys(['Date', 'Open', 'High', 'Low', 'Close', 'Change', 'Traded Volume', 'Turnover', 'Last Price of the Day', 'Daily Traded Units', 'Daily Turnover'])"
      ]
     },
     "execution_count": 12,
     "metadata": {},
     "output_type": "execute_result"
    }
   ],
   "source": [
    "data.keys()"
   ]
  },
  {
   "cell_type": "code",
   "execution_count": 13,
   "metadata": {},
   "outputs": [
    {
     "name": "stdout",
     "output_type": "stream",
     "text": [
      "largest change in any one day: 2.8100000000000023\n"
     ]
    }
   ],
   "source": [
    "#Code Task 4 - largest change in any one day\n",
    "data_high = data['High']\n",
    "data_low = data['Low']\n",
    "\n",
    "data_change = [a - b for a, b in zip(data_high, data_low) if a is not None or b is not None]\n",
    "print('largest change in any one day: ' + str(sorted(data_change, reverse = True)[0]))"
   ]
  },
  {
   "cell_type": "code",
   "execution_count": 14,
   "metadata": {},
   "outputs": [
    {
     "name": "stdout",
     "output_type": "stream",
     "text": [
      "largest change in any one day: 2.559999999999995\n"
     ]
    }
   ],
   "source": [
    "#Code Task 5 - largest change between any two days\n",
    "#Empty list\n",
    "close_diff = []\n",
    "\n",
    "for i, row in enumerate(json_data['dataset']['data']):\n",
    "    if i != 0:\n",
    "        close_diff.append(json_data['dataset']['data'][i][4] - json_data['dataset']['data'][i-1][4])\n",
    "\n",
    "print('largest change in any one day: ' + str(sorted(close_diff, reverse = True)[0]))"
   ]
  },
  {
   "cell_type": "code",
   "execution_count": 15,
   "metadata": {},
   "outputs": [
    {
     "name": "stdout",
     "output_type": "stream",
     "text": [
      "Average Daily trading colume in 2017: 89124.33725490196\n"
     ]
    }
   ],
   "source": [
    "#Code Task 6 - Average Trading Volume\n",
    "data_trade_volume = data['Traded Volume']\n",
    "\n",
    "print('Average Daily trading volume in 2017: ' + str(sum(data_trade_volume) / len(data_trade_volume)))"
   ]
  },
  {
   "cell_type": "code",
   "execution_count": 21,
   "metadata": {},
   "outputs": [
    {
     "name": "stdout",
     "output_type": "stream",
     "text": [
      "Median trading volume in 2017: 76286.0\n"
     ]
    }
   ],
   "source": [
    "#Code Task 7 - Median Trading Volume\n",
    "\n",
    "print('Median trading volume in 2017: ' + str(sorted(data_trade_volume)[int((len(data_trade_volume) - 1) / 2)]))\n"
   ]
  },
  {
   "cell_type": "markdown",
   "metadata": {},
   "source": [
    "These are your tasks for this mini project:\n",
    "\n",
    "1. Collect data from the Franfurt Stock Exchange, for the ticker AFX_X, for the whole year 2017 (keep in mind that the date format is YYYY-MM-DD).\n",
    "2. Convert the returned JSON object into a Python dictionary.\n",
    "3. Calculate what the highest and lowest opening prices were for the stock in this period.\n",
    "4. What was the largest change in any one day (based on High and Low price)?\n",
    "5. What was the largest change between any two days (based on Closing Price)?\n",
    "6. What was the average daily trading volume during this year?\n",
    "7. (Optional) What was the median trading volume during this year. (Note: you may need to implement your own function for calculating the median.)"
   ]
  }
 ],
 "metadata": {
  "kernelspec": {
   "display_name": "Python 3",
   "language": "python",
   "name": "python3"
  },
  "language_info": {
   "codemirror_mode": {
    "name": "ipython",
    "version": 3
   },
   "file_extension": ".py",
   "mimetype": "text/x-python",
   "name": "python",
   "nbconvert_exporter": "python",
   "pygments_lexer": "ipython3",
   "version": "3.7.3"
  }
 },
 "nbformat": 4,
 "nbformat_minor": 2
}
